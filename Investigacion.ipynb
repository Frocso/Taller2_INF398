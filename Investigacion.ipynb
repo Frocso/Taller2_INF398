{
 "cells": [
  {
   "cell_type": "markdown",
   "metadata": {},
   "source": [
    "**Hipótesis de Investigación**: Filtrar los atributos con muchos outliers antes de entrenar un modelo lineal de regresión mejora el error de predicción.\n",
    "\n",
    "#### **Metodología**\n",
    "\n",
    "Para evaluar esta hipótesis, se diseñará un procedimiento experimental que utilizará tres datasets diferentes, de los cuales dos serán reales y uno será sintético o semi-sintético. Los modelos que se evaluarán incluirán únicamente la Regresión Lineal, ya que la hipótesis se centra específicamente en este tipo de modelo.\n",
    "\n",
    "#### **Datasets**\n",
    "\n",
    "**Dataset Real 1:** Boston Housing Dataset\n",
    "\n",
    "**Descripción:** Este dataset incluye información sobre precios de viviendas en Boston y varias características relevantes como la proporción de terrenos residenciales, la tasa de criminalidad, la cercanía a centros de empleo, etc.\n",
    "\n",
    "**Dataset Real 2:** California Housing Dataset\n",
    "\n",
    "**Descripción:** Este dataset incluye información sobre precios de viviendas en California y características como la mediana de ingresos de los residentes, la cantidad de habitaciones por vivienda, la edad media de las viviendas, etc.\n",
    "\n",
    "**Dataset Sintético/Semi-Sintético:** Se generará un dataset sintético o semi-sintético que simule características de precios de viviendas con atributos que contienen outliers.\n",
    "\n",
    "#### **Procedimiento Experimental**\n",
    "\n",
    "**Preprocesamiento de Datos:** \n",
    "\n",
    "Para cada dataset, identificar los atributos que contienen outliers utilizando métodos estadísticos como la desviación estándar, el rango intercuartil, o visualizaciones como boxplots.\n",
    "\n",
    "Filtrar los atributos que contienen outliers eliminando aquellos valores que se consideren atípicos.\n",
    "\n",
    "**Entrenamiento y Evaluación del Modelo de Regresión Lineal:**\n",
    "\n",
    "Entrenar un modelo de regresión lineal utilizando todos los atributos del dataset sin filtrar.\n",
    "\n",
    "Evaluar el rendimiento del modelo utilizando métricas como el error cuadrático medio (MSE) o el coeficiente de determinación (R²).\n",
    "\n",
    "**Entrenamiento y Evaluación del Modelo de Regresión Lineal con Filtrado de Outliers:**\n",
    "\n",
    "Entrenar un segundo modelo de regresión lineal utilizando únicamente los atributos filtrados que no contienen outliers.\n",
    "Evaluar el rendimiento del modelo utilizando las mismas métricas que en el paso anterior."
   ]
  }
 ],
 "metadata": {
  "language_info": {
   "name": "python"
  }
 },
 "nbformat": 4,
 "nbformat_minor": 2
}
